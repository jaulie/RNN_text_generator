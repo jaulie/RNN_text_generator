{
 "cells": [
  {
   "cell_type": "code",
   "execution_count": 111,
   "metadata": {},
   "outputs": [],
   "source": [
    "import tensorflow as tf\n",
    "import numpy as np\n",
    "import matplotlib.pyplot as plt\n",
    "import nltk\n",
    "from datasets import load_dataset"
   ]
  },
  {
   "cell_type": "code",
   "execution_count": 112,
   "metadata": {},
   "outputs": [],
   "source": [
    "# Hyperparameters\n",
    "block_size = 64\n",
    "buffer_size = 10000 # maximum amount to be held in the memory buffer"
   ]
  },
  {
   "cell_type": "markdown",
   "metadata": {},
   "source": [
    "## Get our Dataset ##"
   ]
  },
  {
   "cell_type": "code",
   "execution_count": 60,
   "metadata": {},
   "outputs": [
    {
     "name": "stdout",
     "output_type": "stream",
     "text": [
      "Moby Dick by Herman Melville 1851]\n",
      "\n",
      "\n",
      "ETYMOLOGY.\n",
      "\n",
      "(Supplied by a Late Consumptive Usher to a Gr\n"
     ]
    }
   ],
   "source": [
    "text = nltk.corpus.gutenberg.raw('melville-moby_dick.txt')\n",
    "print(text[1:100])"
   ]
  },
  {
   "cell_type": "markdown",
   "metadata": {},
   "source": [
    "## Encode the Text ##\n",
    "Now we vectorize the text by encoding the strings with a numerical representation. Each character will be mapped to a value using a function. A decoder function will also map the values back to the same characters."
   ]
  },
  {
   "cell_type": "code",
   "execution_count": 65,
   "metadata": {},
   "outputs": [],
   "source": [
    "chars = sorted(set(text))\n",
    "vocab_size = len(chars)\n",
    "\n",
    "# Create a dict which maps each unique character to an index (Encoder)\n",
    "string_to_int = {ch:i for i,ch in enumerate(chars)}\n",
    "encode = lambda s: [string_to_int[c] for c in s]\n",
    "\n",
    "# Create a dict which maps each unique index to a character (Decoder)\n",
    "int_to_string = {i:ch for i,ch in enumerate(chars)}\n",
    "decode = lambda l: ''.join([int_to_string[i] for i in l])"
   ]
  },
  {
   "cell_type": "markdown",
   "metadata": {},
   "source": [
    "### StringLookup Layer in Tensorflow ###\n",
    "Alternatively, this can be done with a StringLookup Layer in Tensorflow, which converts each character to a value based on a vocabulary. An inverted StringLookup Layer with the argument `invert=True` will convert a list of values back to the corresponding characters."
   ]
  },
  {
   "cell_type": "code",
   "execution_count": 72,
   "metadata": {},
   "outputs": [
    {
     "name": "stdout",
     "output_type": "stream",
     "text": [
      "tf.Tensor(\n",
      "[ 1  2  3  4  5  6  7  8  9 10 11 12 13 14 15 16 17 18 19 20 21 22 23 24\n",
      " 25 26 27 28 29 30 31 32 33 34 35 36 37 38 39 40 41 42 43 44 45 46 47 48\n",
      " 49 50 51 52 53 54 55 56 57 58 59 60 61 62 63 64 65 66 67 68 69 70 71 72\n",
      " 73 74 75 76 77 78 79 80 81 82], shape=(82,), dtype=int64)\n",
      "tf.Tensor(\n",
      "[b'\\n' b'\\r' b' ' b'!' b'\"' b'$' b'&' b\"'\" b'(' b')' b'*' b',' b'-' b'.'\n",
      " b'0' b'1' b'2' b'3' b'4' b'5' b'6' b'7' b'8' b'9' b':' b';' b'?' b'A'\n",
      " b'B' b'C' b'D' b'E' b'F' b'G' b'H' b'I' b'J' b'K' b'L' b'M' b'N' b'O'\n",
      " b'P' b'Q' b'R' b'S' b'T' b'U' b'V' b'W' b'X' b'Y' b'Z' b'[' b']' b'_'\n",
      " b'a' b'b' b'c' b'd' b'e' b'f' b'g' b'h' b'i' b'j' b'k' b'l' b'm' b'n'\n",
      " b'o' b'p' b'q' b'r' b's' b't' b'u' b'v' b'w' b'x' b'y' b'z'], shape=(82,), dtype=string)\n",
      "tf.Tensor([35 61 68 68 71  3 50 71 74 68 60], shape=(11,), dtype=int64)\n",
      "b'Hello World'\n"
     ]
    }
   ],
   "source": [
    "# StringLookup Layer\n",
    "ids_from_chars = tf.keras.layers.StringLookup(vocabulary=chars, mask_token=None)\n",
    "chars_from_ids = tf.keras.layers.StringLookup(vocabulary=chars, mask_token=None, invert=True)\n",
    "ids = ids_from_chars(chars)\n",
    "print(ids)\n",
    "invert = chars_from_ids(ids)\n",
    "print(invert)\n",
    "\n",
    "# Function to join the characters in the Tensor back into a String \n",
    "# (they will not be in the order of the original String but in the order they appear in the vocabulary)\n",
    "def text_from_ids(ids):\n",
    "  return tf.strings.reduce_join(chars_from_ids(ids), axis=-1).numpy()\n",
    "\n",
    "word = ['H', 'e', 'l','l','o',' ', 'W', 'o','r','l','d']\n",
    "word_ids = ids_from_chars(word)\n",
    "print(word_ids)\n",
    "print(text_from_ids(word_ids))"
   ]
  },
  {
   "cell_type": "markdown",
   "metadata": {},
   "source": [
    "## Prediction Task ##\n",
    "\n",
    "### Create an Input Pipeline ###\n",
    "\n",
    "What is the most probable next character? The input to the model we will create will be a sequence of n characters, and the model will be trained to predict the character at n+1 at each step. We will use the `tf.data.Dataset.from_tensor_slices` function to create an input pipeline from a tensor of character ids called `all_ids`. Each element of the dataset corresponds to a slice of the input tensors."
   ]
  },
  {
   "cell_type": "code",
   "execution_count": 77,
   "metadata": {},
   "outputs": [
    {
     "name": "stdout",
     "output_type": "stream",
     "text": [
      "tf.Tensor(\n",
      "[b'[' b'M' b'o' b'b' b'y' b' ' b'D' b'i' b'c' b'k' b' ' b'b' b'y' b' '\n",
      " b'H' b'e' b'r' b'm' b'a' b'n' b' ' b'M' b'e' b'l' b'v' b'i' b'l' b'l'\n",
      " b'e' b' ' b'1' b'8' b'5' b'1' b']' b'\\r' b'\\n' b'\\r' b'\\n' b'\\r' b'\\n'\n",
      " b'E' b'T' b'Y' b'M' b'O' b'L' b'O' b'G' b'Y' b'.' b'\\r' b'\\n' b'\\r' b'\\n'\n",
      " b'(' b'S' b'u' b'p' b'p' b'l' b'i' b'e' b'd' b' ' b'b' b'y' b' ' b'a'\n",
      " b' ' b'L' b'a' b't' b'e' b' ' b'C' b'o' b'n' b's' b'u' b'm' b'p' b't'\n",
      " b'i' b'v' b'e' b' ' b'U' b's' b'h' b'e' b'r' b' ' b't' b'o' b' ' b'a'\n",
      " b' ' b'G' b'r' b'a'], shape=(101,), dtype=string)\n",
      "b'[Moby Dick by Herman Melville 1851]\\r\\n\\r\\n\\r\\nETYMOLOGY.\\r\\n\\r\\n(Supplied by a Late Consumptive Usher to a Gra'\n",
      "b'mmar School)\\r\\n\\r\\nThe pale Usher--threadbare in coat, heart, body, and brain; I see him\\r\\nnow.  He was e'\n",
      "b'ver dusting his old lexicons and grammars, with a queer\\r\\nhandkerchief, mockingly embellished with all'\n",
      "b' the gay flags of all the\\r\\nknown nations of the world.  He loved to dust his old grammars; it\\r\\nsomeho'\n",
      "b'w mildly reminded him of his mortality.\\r\\n\\r\\n\"While you take in hand to school others, and to teach the'\n"
     ]
    }
   ],
   "source": [
    "all_ids = ids_from_chars(tf.strings.unicode_split(text, 'UTF-8'))\n",
    "ids_dataset = tf.data.Dataset.from_tensor_slices(all_ids) # Create a tf.data.Dataset object for batching\n",
    "\n",
    "seq_len = 100 \n",
    "# We take seq_len+1 size batches so that when we create (input,label) pairs later, they are of length seq_len\n",
    "sequences = ids_dataset.batch(seq_len+1,drop_remainder=True)\n",
    "\n",
    "# Prints all character derived from ids in one batch\n",
    "for seq in sequences.take(1):\n",
    "    print(chars_from_ids(seq))\n",
    "\n",
    "# Prints all words formed by the characters in 5 batches\n",
    "for seq in sequences.take(5):\n",
    "  print(text_from_ids(seq))"
   ]
  },
  {
   "cell_type": "markdown",
   "metadata": {},
   "source": [
    "### Create a Dataset ###\n",
    "Now that we have a dataset of sequences for our pipeline, we need to create a dataset of (input, label) pairs for training. The input will be the sequence and the label will be the sequence n+1. "
   ]
  },
  {
   "cell_type": "code",
   "execution_count": 84,
   "metadata": {},
   "outputs": [],
   "source": [
    "def split_input_target(sequence):\n",
    "    input_text = sequence[:-1]\n",
    "    target_text = sequence[1:]\n",
    "    return input_text, target_text"
   ]
  },
  {
   "cell_type": "code",
   "execution_count": 86,
   "metadata": {},
   "outputs": [
    {
     "name": "stdout",
     "output_type": "stream",
     "text": [
      "Input : b'[Moby Dick by Herman Melville 1851]\\r\\n\\r\\n\\r\\nETYMOLOGY.\\r\\n\\r\\n(Supplied by a Late Consumptive Usher to a Gr'\n",
      "Target: b'Moby Dick by Herman Melville 1851]\\r\\n\\r\\n\\r\\nETYMOLOGY.\\r\\n\\r\\n(Supplied by a Late Consumptive Usher to a Gra'\n"
     ]
    }
   ],
   "source": [
    "# Creates a dataset where each sequence maps to another \n",
    "# sequence of the same size but shifted forward by 1\n",
    "dataset = sequences.map(split_input_target)\n",
    "for input_example, target_example in dataset.take(1):\n",
    "    print(\"Input :\", text_from_ids(input_example))\n",
    "    print(\"Target:\", text_from_ids(target_example))"
   ]
  },
  {
   "cell_type": "code",
   "execution_count": 90,
   "metadata": {},
   "outputs": [],
   "source": [
    "# Shuffle the data and put it into new batches before feeding it to the model\n",
    "dataset = (\n",
    "    dataset\n",
    "    .shuffle(buffer_size)\n",
    "    .batch(block_size, drop_remainder=True)\n",
    "    .prefetch(tf.data.experimental.AUTOTUNE)) # allows tf to prefetch the next batch of data \n",
    "                                              # while the current batch is being processed by the model"
   ]
  },
  {
   "cell_type": "markdown",
   "metadata": {},
   "source": [
    "### Build the Model ###\n",
    "Create a Model using a subclass of `tf.keras.Model`. This allows for the model to be customized for this use case. \n",
    "\n",
    "This model will have three layers:\n",
    "- `tf.keras.layers.Embedding`: The input layer. A trainable lookup table that will map each character-ID to a vector. Creating an `embedding_dim` dimensional embedding vector for each character.\n",
    "- `tf.keras.layers.GRU`: A Gated Recurrent Unit (GRU) Layer is a type of RNN used commonly for sequence modeling. \n",
    "- `tf.keras.layers.Dense`: This is the output layer. It will output a `vocab_size` (number of unique characters) output. For each character in the vocabulary, it will have calculated a logit, the log-likelihood of each character according to the model."
   ]
  },
  {
   "cell_type": "code",
   "execution_count": 94,
   "metadata": {},
   "outputs": [],
   "source": [
    "# Length of the vocabulary in StringLookup Layer\n",
    "vocab_size = len(ids_from_chars.get_vocabulary())\n",
    "\n",
    "# The embedding dimension\n",
    "embedding_dim = 256\n",
    "\n",
    "# Number of RNN units\n",
    "rnn_units = 1024"
   ]
  },
  {
   "cell_type": "code",
   "execution_count": 93,
   "metadata": {},
   "outputs": [],
   "source": [
    "# Create the Model subclass\n",
    "class MyModel(tf.keras.Model):\n",
    "  def __init__(self, vocab_size, embedding_dim, rnn_units):\n",
    "    super().__init__(self)\n",
    "    self.embedding = tf.keras.layers.Embedding(vocab_size, embedding_dim)\n",
    "    self.gru = tf.keras.layers.GRU(rnn_units,\n",
    "                                   return_sequences=True, # returns sequences of outputs for each time step in the input sequence\n",
    "                                   return_state=True) # returns the hidden state in addition to the output\n",
    "    self.dense = tf.keras.layers.Dense(vocab_size)\n",
    "\n",
    "  def call(self, inputs, states=None, return_state=False, training=False):\n",
    "    x = inputs\n",
    "    x = self.embedding(x, training=training)\n",
    "    if states is None:\n",
    "      states = self.gru.get_initial_state(x)\n",
    "    x, states = self.gru(x, initial_state=states, training=training)\n",
    "    x = self.dense(x, training=training)\n",
    "\n",
    "    if return_state:\n",
    "      return x, states\n",
    "    else:\n",
    "      return x"
   ]
  },
  {
   "cell_type": "code",
   "execution_count": 95,
   "metadata": {},
   "outputs": [],
   "source": [
    "# Create the Model itself\n",
    "model = MyModel(\n",
    "    vocab_size=vocab_size,\n",
    "    embedding_dim=embedding_dim,\n",
    "    rnn_units=rnn_units)"
   ]
  },
  {
   "cell_type": "code",
   "execution_count": 108,
   "metadata": {},
   "outputs": [
    {
     "name": "stdout",
     "output_type": "stream",
     "text": [
      "(64, 100, 83)\n"
     ]
    }
   ],
   "source": [
    "# Test the model by sampling a batch\n",
    "example_batch = dataset.take(1)\n",
    "input_example_batch, target_example_batch = next(iter(example_batch))\n",
    "example_batch_predictions = model(input_example_batch)\n",
    "print(example_batch_predictions.shape)"
   ]
  },
  {
   "cell_type": "code",
   "execution_count": 97,
   "metadata": {},
   "outputs": [
    {
     "name": "stdout",
     "output_type": "stream",
     "text": [
      "Model: \"my_model\"\n",
      "_________________________________________________________________\n",
      " Layer (type)                Output Shape              Param #   \n",
      "=================================================================\n",
      " embedding (Embedding)       multiple                  21248     \n",
      "                                                                 \n",
      " gru (GRU)                   multiple                  3938304   \n",
      "                                                                 \n",
      " dense (Dense)               multiple                  85075     \n",
      "                                                                 \n",
      "=================================================================\n",
      "Total params: 4,044,627\n",
      "Trainable params: 4,044,627\n",
      "Non-trainable params: 0\n",
      "_________________________________________________________________\n"
     ]
    }
   ],
   "source": [
    "model.summary()"
   ]
  },
  {
   "cell_type": "code",
   "execution_count": 99,
   "metadata": {},
   "outputs": [
    {
     "name": "stdout",
     "output_type": "stream",
     "text": [
      "tf.Tensor(\n",
      "[48 14 11 58 76 74 56 42 70 54 15 36 74  1  5 17 26 43  5 51 23 22 71 17\n",
      " 66 45 39 82 34 38  3 15 64 48 24 22 43 67 62 64 56 52 64 28  7 64 64 20\n",
      " 32 57 37 30 15 27 69 27 50 47 57  1 12 40 66 21 39 45 14 12 58 40 34 78\n",
      "  8 79 13 72 23 56 51 36 41 54 22 12 75 42 79 14 62 46 21 70 25 45 26 34\n",
      " 61 51 51 50], shape=(100,), dtype=int64)\n",
      "Input:\n",
      " b'es, or whales cut in profile out of the small dark slabs\\r\\nof the noble South Sea war-wood, are frequ'\n",
      "\n",
      "Next Char Predictions:\n",
      " b'U.*btr_On[0Ir\\n\"2;P\"X87o2jRLzGK 0hU97Pkfh_YhA&hh5EaJC0?m?WTa\\n,Mj6LR.,bMGv\\'w-p8_XIN[7,sOw.fS6n:R;GeXXW'\n"
     ]
    }
   ],
   "source": [
    "# Check out what next characters are predicted by the untrained model for the sample batch\n",
    "sampled_indices = tf.random.categorical(example_batch_predictions[0], num_samples=1)\n",
    "sampled_indices = tf.squeeze(sampled_indices, axis=-1)\n",
    "print(sampled_indices)\n",
    "print(\"Input:\\n\", text_from_ids(input_example_batch[0]))\n",
    "print()\n",
    "print(\"Next Char Predictions:\\n\", text_from_ids(sampled_indices))"
   ]
  },
  {
   "cell_type": "markdown",
   "metadata": {},
   "source": [
    "### Train the Model ###\n",
    "The predictions so far tell us very little since the model has yet to be trained. Given the previous RNN state and the new input from this time step, we will predict the next character."
   ]
  },
  {
   "cell_type": "code",
   "execution_count": 101,
   "metadata": {},
   "outputs": [],
   "source": [
    "# Loss function\n",
    "loss = tf.losses.SparseCategoricalCrossentropy(from_logits=True) # set to return logits"
   ]
  },
  {
   "cell_type": "code",
   "execution_count": 102,
   "metadata": {},
   "outputs": [
    {
     "name": "stdout",
     "output_type": "stream",
     "text": [
      "Prediction shape:  (64, 100, 83)  # (batch_size, sequence_length, vocab_size)\n",
      "Mean loss:         tf.Tensor(4.419329, shape=(), dtype=float32)\n"
     ]
    }
   ],
   "source": [
    "example_batch_mean_loss = loss(target_example_batch, example_batch_predictions)\n",
    "print(\"Prediction shape: \", example_batch_predictions.shape, \" # (batch_size, sequence_length, vocab_size)\")\n",
    "print(\"Mean loss:        \", example_batch_mean_loss)"
   ]
  },
  {
   "cell_type": "markdown",
   "metadata": {},
   "source": [
    "An untrained, newly initialized model should have output logits that are roughly equal to one another. If this is the case, then the exponential of the mean should be approximately the size of the vocabulary. "
   ]
  },
  {
   "cell_type": "code",
   "execution_count": 114,
   "metadata": {},
   "outputs": [
    {
     "data": {
      "text/plain": [
       "83.04056"
      ]
     },
     "execution_count": 114,
     "metadata": {},
     "output_type": "execute_result"
    }
   ],
   "source": [
    "tf.exp(example_batch_mean_loss).numpy()"
   ]
  },
  {
   "cell_type": "markdown",
   "metadata": {},
   "source": [
    "We configure the model's training using `tf.keras.Model.compile` which configures various training-related settings. We define the optimization algorithm to be used, Adam, and the loss function, Spare Categorical Cross Entropy. The optimization algorithm is responsible for updating the model's weights based on the computed gradients. Adam (Adaptive Moment Estimation) is a popular optimization algorithm for training NNs because it has adaptive learning rates, momentum, bias correction, and is pretty efficient. The loss function (defined above) is the function whose value should be minimized (optimized). "
   ]
  },
  {
   "cell_type": "code",
   "execution_count": 115,
   "metadata": {},
   "outputs": [],
   "source": [
    "model.compile(optimizer='adam', loss=loss)"
   ]
  },
  {
   "cell_type": "code",
   "execution_count": null,
   "metadata": {},
   "outputs": [],
   "source": [
    "# Ensure checkpoints are saved\n",
    "checkpoint_dir = './training_checkpoints' # directory where the checkpoints will be saved\n",
    "# Name of the checkpoint files\n",
    "checkpoint_prefix = os.path.join(checkpoint_dir, \"ckpt_{epoch}\")\n",
    "\n",
    "checkpoint_callback = tf.keras.callbacks.ModelCheckpoint(\n",
    "    filepath=checkpoint_prefix,\n",
    "    save_weights_only=True)"
   ]
  },
  {
   "cell_type": "code",
   "execution_count": 116,
   "metadata": {},
   "outputs": [],
   "source": [
    "# Train and test\n",
    "data = np.array(encode(text), dtype=np.int32) # specify the dtype for performance optimization\n",
    "n = int(0.85*len(data))\n",
    "train_data = data[:n]\n",
    "test_data = data[n:]"
   ]
  },
  {
   "cell_type": "code",
   "execution_count": 47,
   "metadata": {},
   "outputs": [
    {
     "name": "stderr",
     "output_type": "stream",
     "text": [
      ") missing from current font.a3/envs/work3.10/lib/python3.10/site-packages/IPython/core/pylabtools.py:152: UserWarning: Glyph 13 (\n",
      "  fig.canvas.print_figure(bytes_io, **kw)\n"
     ]
    },
    {
     "data": {
      "image/png": "[encoded data removed]",
      "text/plain": [
       "<Figure size 640x480 with 1 Axes>"
      ]
     },
     "metadata": {},
     "output_type": "display_data"
    },
    {
     "data": {
      "text/plain": [
       "<Figure size 1500x500 with 0 Axes>"
      ]
     },
     "metadata": {},
     "output_type": "display_data"
    }
   ],
   "source": [
    "# Take a look at our encoded training data\n",
    "encoded_vals = train_data\n",
    "\n",
    "# Plot a histogram to show the distribution of our training data\n",
    "plt.hist(encoded_vals, bins=range(len(chars)+1), alpha=0.7, edgecolor='black', align='left')\n",
    "plt.title('Histogram of Encoded Values')\n",
    "plt.xlabel('Encoded Value')\n",
    "plt.ylabel('Frequency')\n",
    "plt.xticks(range(len(chars)), chars, fontsize=4)\n",
    "plt.grid(axis='y')\n",
    "plt.figure(figsize=(15,5))\n",
    "plt.tight_layout()\n",
    "plt.show()"
   ]
  }
 ],
 "metadata": {
  "kernelspec": {
   "display_name": "work",
   "language": "python",
   "name": "python3"
  },
  "language_info": {
   "codemirror_mode": {
    "name": "ipython",
    "version": 3
   },
   "file_extension": ".py",
   "mimetype": "text/x-python",
   "name": "python",
   "nbconvert_exporter": "python",
   "pygments_lexer": "ipython3",
   "version": "3.10.13"
  }
 },
 "nbformat": 4,
 "nbformat_minor": 2
}
